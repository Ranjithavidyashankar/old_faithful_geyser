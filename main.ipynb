{
 "cells": [
  {
   "cell_type": "code",
   "execution_count": 1,
   "metadata": {},
   "outputs": [],
   "source": [
    "import numpy as np\n",
    "import pandas as pd\n",
    "import matplotlib.pyplot as plt\n",
    "from sklearn.preprocessing import MinMaxScaler\n",
    "from scipy.stats import multivariate_normal\n",
    "\n",
    "pd.set_option('display.max_rows', 10)\n",
    "%matplotlib inline"
   ]
  },
  {
   "cell_type": "markdown",
   "metadata": {},
   "source": [
    "### Load data"
   ]
  },
  {
   "cell_type": "code",
   "execution_count": 2,
   "metadata": {},
   "outputs": [
    {
     "data": {
      "text/plain": [
       "Text(0,0.5,'waiting')"
      ]
     },
     "execution_count": 2,
     "metadata": {},
     "output_type": "execute_result"
    },
    {
     "data": {
      "image/png": "[encoded data removed]",
      "text/plain": [
       "<Figure size 432x288 with 1 Axes>"
      ]
     },
     "metadata": {},
     "output_type": "display_data"
    }
   ],
   "source": [
    "data = pd.read_csv('data/data.csv')\n",
    "plt.scatter(data.iloc[:, 0], data.iloc[:, 1])\n",
    "plt.xlabel(data.columns[0], fontsize=14)\n",
    "plt.ylabel(data.columns[1], fontsize=14)"
   ]
  },
  {
   "cell_type": "markdown",
   "metadata": {},
   "source": [
    "### Scale data"
   ]
  },
  {
   "cell_type": "code",
   "execution_count": 3,
   "metadata": {},
   "outputs": [
    {
     "data": {
      "text/html": [
       "<div>\n",
       "<style scoped>\n",
       "    .dataframe tbody tr th:only-of-type {\n",
       "        vertical-align: middle;\n",
       "    }\n",
       "\n",
       "    .dataframe tbody tr th {\n",
       "        vertical-align: top;\n",
       "    }\n",
       "\n",
       "    .dataframe thead th {\n",
       "        text-align: right;\n",
       "    }\n",
       "</style>\n",
       "<table border=\"1\" class=\"dataframe\">\n",
       "  <thead>\n",
       "    <tr style=\"text-align: right;\">\n",
       "      <th></th>\n",
       "      <th>eruptions</th>\n",
       "      <th>waiting</th>\n",
       "    </tr>\n",
       "  </thead>\n",
       "  <tbody>\n",
       "    <tr>\n",
       "      <th>0</th>\n",
       "      <td>0.571429</td>\n",
       "      <td>0.679245</td>\n",
       "    </tr>\n",
       "    <tr>\n",
       "      <th>1</th>\n",
       "      <td>0.057143</td>\n",
       "      <td>0.207547</td>\n",
       "    </tr>\n",
       "    <tr>\n",
       "      <th>2</th>\n",
       "      <td>0.495143</td>\n",
       "      <td>0.584906</td>\n",
       "    </tr>\n",
       "    <tr>\n",
       "      <th>3</th>\n",
       "      <td>0.195143</td>\n",
       "      <td>0.358491</td>\n",
       "    </tr>\n",
       "    <tr>\n",
       "      <th>4</th>\n",
       "      <td>0.838000</td>\n",
       "      <td>0.792453</td>\n",
       "    </tr>\n",
       "    <tr>\n",
       "      <th>...</th>\n",
       "      <td>...</td>\n",
       "      <td>...</td>\n",
       "    </tr>\n",
       "    <tr>\n",
       "      <th>267</th>\n",
       "      <td>0.719143</td>\n",
       "      <td>0.716981</td>\n",
       "    </tr>\n",
       "    <tr>\n",
       "      <th>268</th>\n",
       "      <td>0.157143</td>\n",
       "      <td>0.056604</td>\n",
       "    </tr>\n",
       "    <tr>\n",
       "      <th>269</th>\n",
       "      <td>0.804857</td>\n",
       "      <td>0.886792</td>\n",
       "    </tr>\n",
       "    <tr>\n",
       "      <th>270</th>\n",
       "      <td>0.062000</td>\n",
       "      <td>0.056604</td>\n",
       "    </tr>\n",
       "    <tr>\n",
       "      <th>271</th>\n",
       "      <td>0.819143</td>\n",
       "      <td>0.584906</td>\n",
       "    </tr>\n",
       "  </tbody>\n",
       "</table>\n",
       "<p>272 rows × 2 columns</p>\n",
       "</div>"
      ],
      "text/plain": [
       "     eruptions   waiting\n",
       "0     0.571429  0.679245\n",
       "1     0.057143  0.207547\n",
       "2     0.495143  0.584906\n",
       "3     0.195143  0.358491\n",
       "4     0.838000  0.792453\n",
       "..         ...       ...\n",
       "267   0.719143  0.716981\n",
       "268   0.157143  0.056604\n",
       "269   0.804857  0.886792\n",
       "270   0.062000  0.056604\n",
       "271   0.819143  0.584906\n",
       "\n",
       "[272 rows x 2 columns]"
      ]
     },
     "metadata": {},
     "output_type": "display_data"
    }
   ],
   "source": [
    "scaler = MinMaxScaler()\n",
    "scaler.fit(data)\n",
    "data_scaled = pd.DataFrame(scaler.transform(data), columns=data.columns)\n",
    "display(data_scaled)"
   ]
  },
  {
   "cell_type": "markdown",
   "metadata": {},
   "source": [
    "### Gaussian Mixture Model - Expection Maximization Algorithm"
   ]
  },
  {
   "cell_type": "code",
   "execution_count": 4,
   "metadata": {},
   "outputs": [],
   "source": [
    "class GMM_EM:\n",
    "    def __init__(self, K, data):\n",
    "        self.K = K\n",
    "        self.data = data\n",
    "        self.num_data, self.num_features = self.data.shape\n",
    "        \n",
    "        \n",
    "    def __get_init_params(self):\n",
    "        mu = np.random.rand(self.K, self.num_features)\n",
    "        cov = np.array([np.diag([0.1, 0.1])] * self.K)\n",
    "        pi = np.array([1.0 / self.K] * self.K)\n",
    "        print(\"Parameters initialized:\",\"mu:\", mu, \"cov:\", cov, \"pi:\", pi, sep=\"\\n\")\n",
    "        return mu, cov, pi\n",
    "\n",
    "    \n",
    "    def __get_expectation(self, mu, cov, pi):\n",
    "        # Calculate probabilities for all samples to each model\n",
    "        prob = np.zeros((self.num_data, self.K))\n",
    "        for k in range(self.K):\n",
    "            prob[:, k] = multivariate_normal.pdf(self.data, mean=mu[k], cov=cov[k])\n",
    "        \n",
    "        # Calculate responsibility for each model to every sample\n",
    "        resp = np.zeros((self.num_data, self.K))\n",
    "        for k in range(self.K):\n",
    "            resp[:, k] = pi[k] * prob[:, k]\n",
    "        for i in range(self.num_data):\n",
    "            summ = np.sum(resp[i, :])\n",
    "            if summ != 0:\n",
    "                resp[i, :] /= summ\n",
    "        \n",
    "        return resp\n",
    "        \n",
    "        \n",
    "    def __maximize(self, resp):\n",
    "        mu = np.zeros((self.K, self.num_features))\n",
    "        cov = []\n",
    "        pi = np.zeros(self.K)\n",
    "\n",
    "        # Update parameters for every model \n",
    "        for k in range(self.K):\n",
    "            # sum of responses of all samples for kth model\n",
    "            sum_resp = np.sum(resp[:, k])\n",
    "    \n",
    "            # mean  \n",
    "            for f in range(self.num_features):\n",
    "                mu[k, f] = np.sum(np.multiply(resp[:, k], self.data[:, f])) / sum_resp\n",
    "            \n",
    "            # cov (spherical)\n",
    "            cov_k = np.zeros(self.num_features)\n",
    "            for i in range(self.num_features):\n",
    "                cov_k[i] = resp[i, k] * np.sum(np.square((self.data[i] - mu[k]))) / sum_resp\n",
    "            cov.append(np.diag([np.average(cov_k), np.average(cov_k)]))\n",
    "            \n",
    "            # pi\n",
    "            pi[k] = sum_resp / self.num_data\n",
    "            \n",
    "        return mu, np.array(cov), pi\n",
    "        \n",
    "    \n",
    "    def run(self, iterations):\n",
    "        mu, cov, pi = self.__get_init_params()\n",
    "        mus = [[[] for _ in range(self.num_features)] for __ in range(self.K)]\n",
    "        for i in range(self.K):\n",
    "                for j in range(self.num_features):\n",
    "                    mus[i][j].append(mu[i][j])\n",
    "                    \n",
    "        for _ in range(iterations):\n",
    "            resp = self.__get_expectation(mu, cov, pi)\n",
    "            mu, cov, pi = self.__maximize(resp)\n",
    "            for i in range(self.K):\n",
    "                for j in range(self.num_features):\n",
    "                    mus[i][j].append(mu[i][j])\n",
    "                \n",
    "        return mus"
   ]
  },
  {
   "cell_type": "code",
   "execution_count": 5,
   "metadata": {},
   "outputs": [
    {
     "name": "stdout",
     "output_type": "stream",
     "text": [
      "Parameters initialized:\n",
      "mu:\n",
      "[[0.46195045 0.16864724]\n",
      " [0.0654861  0.99648832]]\n",
      "cov:\n",
      "[[[0.1 0. ]\n",
      "  [0.  0.1]]\n",
      "\n",
      " [[0.1 0. ]\n",
      "  [0.  0.1]]]\n",
      "pi:\n",
      "[0.5 0.5]\n"
     ]
    },
    {
     "data": {
      "text/plain": [
       "<matplotlib.legend.Legend at 0x11db0e9e8>"
      ]
     },
     "execution_count": 5,
     "metadata": {},
     "output_type": "execute_result"
    },
    {
     "data": {
      "image/png": "[encoded data removed]",
      "text/plain": [
       "<Figure size 432x288 with 1 Axes>"
      ]
     },
     "metadata": {},
     "output_type": "display_data"
    }
   ],
   "source": [
    "model = GMM_EM(2, data_scaled.values)\n",
    "mus = model.run(50)\n",
    "\n",
    "mus1 = pd.DataFrame({data.columns[0]: mus[0][0], data.columns[1]: mus[0][1]})\n",
    "mus2 = pd.DataFrame({data.columns[0]: mus[1][0], data.columns[1]: mus[1][1]})\n",
    "\n",
    "plt.scatter(data_scaled.iloc[:, 0], data_scaled.iloc[:, 1], label=\"data\", alpha=1)\n",
    "plt.xlabel(data.columns[0], fontsize=14)\n",
    "plt.ylabel(data.columns[1], fontsize=14)\n",
    "plt.plot(data.columns[0], data.columns[1], data=mus1, label='c1', marker='o', markerfacecolor='yellow', markersize=8, color='skyblue', linewidth=2)\n",
    "plt.plot(data.columns[0], data.columns[1], data=mus2, label='c2', marker='s', markerfacecolor='purple', markersize=8, color='pink', linewidth=2)\n",
    "plt.legend()"
   ]
  },
  {
   "cell_type": "code",
   "execution_count": null,
   "metadata": {},
   "outputs": [],
   "source": []
  },
  {
   "cell_type": "code",
   "execution_count": null,
   "metadata": {},
   "outputs": [],
   "source": []
  },
  {
   "cell_type": "code",
   "execution_count": null,
   "metadata": {},
   "outputs": [],
   "source": []
  }
 ],
 "metadata": {
  "kernelspec": {
   "display_name": "Python 3",
   "language": "python",
   "name": "python3"
  },
  "language_info": {
   "codemirror_mode": {
    "name": "ipython",
    "version": 3
   },
   "file_extension": ".py",
   "mimetype": "text/x-python",
   "name": "python",
   "nbconvert_exporter": "python",
   "pygments_lexer": "ipython3",
   "version": "3.7.0"
  }
 },
 "nbformat": 4,
 "nbformat_minor": 2
}
